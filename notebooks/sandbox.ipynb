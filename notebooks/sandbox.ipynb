{
 "cells": [
  {
   "cell_type": "markdown",
   "metadata": {},
   "source": [
    "# Sustainability Sandbox\n",
    "\n",
    "To run this notebook, simply type;\n",
    "'jupyter notebook'\n",
    "on the mac command prompt, to launch a server\n",
    "\n",
    "This is just a test environment to explore notebook functionality and integration with seperate project code"
   ]
  },
  {
   "cell_type": "code",
   "execution_count": null,
   "metadata": {},
   "outputs": [],
   "source": [
    "def print_numbers(numbers):\n",
    "    for number in numbers:\n",
    "        number = number\n",
    "        print('\\n' + str(number))\n",
    "    print('--------')"
   ]
  },
  {
   "cell_type": "code",
   "execution_count": null,
   "metadata": {
    "scrolled": true
   },
   "outputs": [],
   "source": [
    "print_numbers([3])"
   ]
  },
  {
   "cell_type": "markdown",
   "metadata": {},
   "source": [
    "How can we run code that is outside of the notebook?"
   ]
  },
  {
   "cell_type": "code",
   "execution_count": 5,
   "metadata": {},
   "outputs": [
    {
     "name": "stdout",
     "output_type": "stream",
     "text": [
      "/\n",
      "Simulated App 10\n"
     ]
    }
   ],
   "source": [
    "# change the working directory of the notebook, to see the project code\n",
    "%cd ..\n",
    "\n",
    "# then just import as normal!\n",
    "from utilities import *\n",
    "\n",
    "results = create_test_data(10)\n",
    "\n",
    "print(results[9].name)"
   ]
  },
  {
   "cell_type": "code",
   "execution_count": null,
   "metadata": {},
   "outputs": [],
   "source": []
  }
 ],
 "metadata": {
  "kernelspec": {
   "display_name": "Python 3",
   "language": "python",
   "name": "python3"
  },
  "language_info": {
   "codemirror_mode": {
    "name": "ipython",
    "version": 3
   },
   "file_extension": ".py",
   "mimetype": "text/x-python",
   "name": "python",
   "nbconvert_exporter": "python",
   "pygments_lexer": "ipython3",
   "version": "3.7.6"
  }
 },
 "nbformat": 4,
 "nbformat_minor": 4
}
