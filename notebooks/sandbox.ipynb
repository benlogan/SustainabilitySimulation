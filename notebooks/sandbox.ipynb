{
 "cells": [
  {
   "cell_type": "code",
   "execution_count": 1,
   "metadata": {},
   "outputs": [],
   "source": [
    "import time\n",
    "\n",
    "BUSY_SYMBOL = \"|\"\n",
    "\n",
    "def method1(numbers):\n",
    "    print_numbers(numbers)\n",
    "    is_sorted = False\n",
    "    sorted_list = numbers\n",
    "    busy_symbol = BUSY_SYMBOL\n",
    "\n",
    "    while is_sorted is False:\n",
    "        is_sorted = True\n",
    "        counter = 0\n",
    "        last = None\n",
    "\n",
    "        for number in sorted_list:\n",
    "            time.sleep(0.5)\n",
    "            if busy_symbol == BUSY_SYMBOL:\n",
    "                busy_symbol = '-'\n",
    "            else:\n",
    "                busy_symbol = BUSY_SYMBOL\n",
    "            print('\\r' + busy_symbol, end='')\n",
    "            if counter > 0:\n",
    "                if last > number:\n",
    "                    sorted_list[counter] = last\n",
    "                    sorted_list[counter-1] = number\n",
    "                    #last needs to stay the same, if you've moved it up\n",
    "                    is_sorted = False\n",
    "                else:\n",
    "                    last = number\n",
    "                    sorted_list[counter] = last\n",
    "            else:\n",
    "                sorted_list[counter] = number\n",
    "                last = number\n",
    "            counter = counter + 1\n",
    "        #print('partially sorted numbers : ')\n",
    "        #print_numbers(sorted_list)\n",
    "    print_numbers(sorted_list)\n",
    "        \n",
    "def print_numbers(numbers):\n",
    "    for number in numbers:\n",
    "        number = number\n",
    "        print('\\n' + str(number))\n",
    "    print('--------')"
   ]
  },
  {
   "cell_type": "code",
   "execution_count": 3,
   "metadata": {},
   "outputs": [
    {
     "name": "stdout",
     "output_type": "stream",
     "text": [
      "\n",
      "3\n",
      "--------\n"
     ]
    }
   ],
   "source": [
    "print_numbers([3])"
   ]
  },
  {
   "cell_type": "code",
   "execution_count": null,
   "metadata": {},
   "outputs": [],
   "source": []
  }
 ],
 "metadata": {
  "kernelspec": {
   "display_name": "Python 3",
   "language": "python",
   "name": "python3"
  },
  "language_info": {
   "codemirror_mode": {
    "name": "ipython",
    "version": 3
   },
   "file_extension": ".py",
   "mimetype": "text/x-python",
   "name": "python",
   "nbconvert_exporter": "python",
   "pygments_lexer": "ipython3",
   "version": "3.7.6"
  }
 },
 "nbformat": 4,
 "nbformat_minor": 4
}
